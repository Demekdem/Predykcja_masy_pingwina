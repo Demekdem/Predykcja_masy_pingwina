{
 "cells": [
  {
   "cell_type": "markdown",
   "id": "3c3ea0c9-5cc0-453f-8b19-cd4f3e6b157a",
   "metadata": {},
   "source": [
    "# PROJEKT - PINGWINY \n"
   ]
  },
  {
   "cell_type": "markdown",
   "id": "24f30b23-023f-4b3e-bba5-d73fea1229b4",
   "metadata": {},
   "source": [
    "## 1) Import bilbiotek , pobranie i przygotowanie danych"
   ]
  },
  {
   "cell_type": "code",
   "execution_count": 157,
   "id": "079ae605-23c4-4e10-b044-dd79de2c4def",
   "metadata": {},
   "outputs": [
    {
     "data": {
      "text/html": [
       "<div>\n",
       "<style scoped>\n",
       "    .dataframe tbody tr th:only-of-type {\n",
       "        vertical-align: middle;\n",
       "    }\n",
       "\n",
       "    .dataframe tbody tr th {\n",
       "        vertical-align: top;\n",
       "    }\n",
       "\n",
       "    .dataframe thead th {\n",
       "        text-align: right;\n",
       "    }\n",
       "</style>\n",
       "<table border=\"1\" class=\"dataframe\">\n",
       "  <thead>\n",
       "    <tr style=\"text-align: right;\">\n",
       "      <th></th>\n",
       "      <th>gatunek</th>\n",
       "      <th>wyspa</th>\n",
       "      <th>dlugosc_dzioba_mm</th>\n",
       "      <th>szerokosc_dzioba_mm</th>\n",
       "      <th>dlugosc_pletwy_mm</th>\n",
       "      <th>masa_ciala_g</th>\n",
       "      <th>plec</th>\n",
       "    </tr>\n",
       "  </thead>\n",
       "  <tbody>\n",
       "    <tr>\n",
       "      <th>0</th>\n",
       "      <td>Pingwin bialobrewy (Pygoscelis papua)</td>\n",
       "      <td>Biscoe</td>\n",
       "      <td>42</td>\n",
       "      <td>13,5</td>\n",
       "      <td>210</td>\n",
       "      <td>4150</td>\n",
       "      <td>SAMICA</td>\n",
       "    </tr>\n",
       "    <tr>\n",
       "      <th>1</th>\n",
       "      <td>Pingwin bialobrewy (Pygoscelis papua)</td>\n",
       "      <td>Biscoe</td>\n",
       "      <td>46,5</td>\n",
       "      <td>13,5</td>\n",
       "      <td>210</td>\n",
       "      <td>4550</td>\n",
       "      <td>SAMICA</td>\n",
       "    </tr>\n",
       "    <tr>\n",
       "      <th>2</th>\n",
       "      <td>Pingwin bialobrewy (Pygoscelis papua)</td>\n",
       "      <td>Biscoe</td>\n",
       "      <td>47,5</td>\n",
       "      <td>14</td>\n",
       "      <td>212</td>\n",
       "      <td>4875</td>\n",
       "      <td>SAMICA</td>\n",
       "    </tr>\n",
       "    <tr>\n",
       "      <th>3</th>\n",
       "      <td>Pingwin bialobrewy (Pygoscelis papua)</td>\n",
       "      <td>Biscoe</td>\n",
       "      <td>43,3</td>\n",
       "      <td>14</td>\n",
       "      <td>208</td>\n",
       "      <td>4575</td>\n",
       "      <td>SAMICA</td>\n",
       "    </tr>\n",
       "    <tr>\n",
       "      <th>4</th>\n",
       "      <td>Pingwin bialobrewy (Pygoscelis papua)</td>\n",
       "      <td>Biscoe</td>\n",
       "      <td>45,5</td>\n",
       "      <td>14,5</td>\n",
       "      <td>212</td>\n",
       "      <td>4750</td>\n",
       "      <td>SAMICA</td>\n",
       "    </tr>\n",
       "    <tr>\n",
       "      <th>...</th>\n",
       "      <td>...</td>\n",
       "      <td>...</td>\n",
       "      <td>...</td>\n",
       "      <td>...</td>\n",
       "      <td>...</td>\n",
       "      <td>...</td>\n",
       "      <td>...</td>\n",
       "    </tr>\n",
       "    <tr>\n",
       "      <th>337</th>\n",
       "      <td>Pingwin maskowy (Pygoscelis antarctica)</td>\n",
       "      <td>Dream</td>\n",
       "      <td>51</td>\n",
       "      <td>18,8</td>\n",
       "      <td>203</td>\n",
       "      <td>4100</td>\n",
       "      <td>SAMIEC</td>\n",
       "    </tr>\n",
       "    <tr>\n",
       "      <th>338</th>\n",
       "      <td>Pingwin maskowy (Pygoscelis antarctica)</td>\n",
       "      <td>Dream</td>\n",
       "      <td>52,2</td>\n",
       "      <td>18,8</td>\n",
       "      <td>197</td>\n",
       "      <td>3450</td>\n",
       "      <td>SAMIEC</td>\n",
       "    </tr>\n",
       "    <tr>\n",
       "      <th>339</th>\n",
       "      <td>Pingwin maskowy (Pygoscelis antarctica)</td>\n",
       "      <td>Dream</td>\n",
       "      <td>52,7</td>\n",
       "      <td>19,8</td>\n",
       "      <td>197</td>\n",
       "      <td>3725</td>\n",
       "      <td>SAMIEC</td>\n",
       "    </tr>\n",
       "    <tr>\n",
       "      <th>340</th>\n",
       "      <td>Pingwin maskowy (Pygoscelis antarctica)</td>\n",
       "      <td>Dream</td>\n",
       "      <td>55,8</td>\n",
       "      <td>19,8</td>\n",
       "      <td>207</td>\n",
       "      <td>4000</td>\n",
       "      <td>SAMIEC</td>\n",
       "    </tr>\n",
       "    <tr>\n",
       "      <th>341</th>\n",
       "      <td>Pingwin maskowy (Pygoscelis antarctica)</td>\n",
       "      <td>Dream</td>\n",
       "      <td>54,2</td>\n",
       "      <td>20,8</td>\n",
       "      <td>201</td>\n",
       "      <td>4300</td>\n",
       "      <td>SAMIEC</td>\n",
       "    </tr>\n",
       "  </tbody>\n",
       "</table>\n",
       "<p>342 rows × 7 columns</p>\n",
       "</div>"
      ],
      "text/plain": [
       "                                     gatunek   wyspa dlugosc_dzioba_mm  \\\n",
       "0      Pingwin bialobrewy (Pygoscelis papua)  Biscoe                42   \n",
       "1      Pingwin bialobrewy (Pygoscelis papua)  Biscoe              46,5   \n",
       "2      Pingwin bialobrewy (Pygoscelis papua)  Biscoe              47,5   \n",
       "3      Pingwin bialobrewy (Pygoscelis papua)  Biscoe              43,3   \n",
       "4      Pingwin bialobrewy (Pygoscelis papua)  Biscoe              45,5   \n",
       "..                                       ...     ...               ...   \n",
       "337  Pingwin maskowy (Pygoscelis antarctica)   Dream                51   \n",
       "338  Pingwin maskowy (Pygoscelis antarctica)   Dream              52,2   \n",
       "339  Pingwin maskowy (Pygoscelis antarctica)   Dream              52,7   \n",
       "340  Pingwin maskowy (Pygoscelis antarctica)   Dream              55,8   \n",
       "341  Pingwin maskowy (Pygoscelis antarctica)   Dream              54,2   \n",
       "\n",
       "    szerokosc_dzioba_mm  dlugosc_pletwy_mm  masa_ciala_g    plec  \n",
       "0                  13,5                210          4150  SAMICA  \n",
       "1                  13,5                210          4550  SAMICA  \n",
       "2                    14                212          4875  SAMICA  \n",
       "3                    14                208          4575  SAMICA  \n",
       "4                  14,5                212          4750  SAMICA  \n",
       "..                  ...                ...           ...     ...  \n",
       "337                18,8                203          4100  SAMIEC  \n",
       "338                18,8                197          3450  SAMIEC  \n",
       "339                19,8                197          3725  SAMIEC  \n",
       "340                19,8                207          4000  SAMIEC  \n",
       "341                20,8                201          4300  SAMIEC  \n",
       "\n",
       "[342 rows x 7 columns]"
      ]
     },
     "execution_count": 157,
     "metadata": {},
     "output_type": "execute_result"
    }
   ],
   "source": [
    "import pandas as pd\n",
    "\n",
    "df = pd.read_csv(\"/Users/../pingwiny.csv\", sep=\";\")\n",
    "df"
   ]
  },
  {
   "cell_type": "code",
   "execution_count": 158,
   "id": "bfa33933-a7c4-40aa-8051-01fbe84e93a4",
   "metadata": {},
   "outputs": [
    {
     "name": "stderr",
     "output_type": "stream",
     "text": [
      "/var/folders/qp/9m24hmgj2zj_6c8sjvtnvdww0000gn/T/ipykernel_1530/2791454843.py:5: FutureWarning: Downcasting behavior in `replace` is deprecated and will be removed in a future version. To retain the old behavior, explicitly call `result.infer_objects(copy=False)`. To opt-in to the future behavior, set `pd.set_option('future.no_silent_downcasting', True)`\n",
      "  df[\"plec\"] = df[\"plec\"].replace({\"SAMICA\": 0, \"SAMIEC\": 1})\n"
     ]
    }
   ],
   "source": [
    "#----------- Przeksztalcanie zmiennych\n",
    "\n",
    "# 1. Zamień na liczby\n",
    "df[\"plec\"] = df[\"plec\"].replace({\"SAMICA\": 0, \"SAMIEC\": 1})\n",
    "\n",
    "# 2. Wypełnianie braków danych\n",
    "df[\"plec\"] = df[\"plec\"].fillna(df[\"plec\"].mode()[0])\n",
    "\n",
    "# 3. Zmiena typ na liczbowy\n",
    "df[\"plec\"] = df[\"plec\"].astype(\"int64\")\n",
    "df.dtypes\n",
    "\n",
    "# zmiana na float64 \n",
    "cols = [\"dlugosc_dzioba_mm\", \"szerokosc_dzioba_mm\"]\n",
    "\n",
    "df[cols] = (\n",
    "    df[cols]\n",
    "    .apply(lambda x: x.str.replace(\",\", \".\"))\n",
    "    .astype(float)\n",
    ")"
   ]
  },
  {
   "cell_type": "code",
   "execution_count": 159,
   "id": "13eea630-8109-49ff-8680-5390d9063d4d",
   "metadata": {},
   "outputs": [],
   "source": [
    "# zmiana zmiennych 'wyspa' ' gatunek' na zmienne nominalne \n",
    "from sklearn.preprocessing import OneHotEncoder\n",
    "import pandas as pd\n",
    "\n",
    "encoder = OneHotEncoder(drop='first', sparse_output=False) \n",
    "gatunek_encoded = encoder.fit_transform(df[['wyspa', 'gatunek']])\n",
    "\n",
    "encoded_cols = encoder.get_feature_names_out(['wyspa', 'gatunek'])\n",
    "\n",
    "df_encoded = pd.DataFrame(gatunek_encoded, columns=encoded_cols)\n",
    "\n",
    "df = pd.concat([df.drop(['wyspa', 'gatunek'], axis=1), df_encoded], axis=1)\n"
   ]
  },
  {
   "cell_type": "markdown",
   "id": "6a3485d8-f104-4974-b8ae-99f2782b65f4",
   "metadata": {},
   "source": [
    "## 2) Pierwszy model regresji liniowej\n"
   ]
  },
  {
   "cell_type": "code",
   "execution_count": 160,
   "id": "ed8e9dcb-a312-418d-a622-6fc946014c26",
   "metadata": {},
   "outputs": [],
   "source": [
    "from sklearn.linear_model import LinearRegression\n",
    "from sklearn.model_selection import train_test_split\n",
    "from sklearn.metrics import r2_score, mean_squared_error\n",
    "\n",
    "y = df[\"masa_ciala_g\"]\n",
    "X = df.drop(columns=\"masa_ciala_g\")\n",
    "\n",
    "X_train, X_test, y_train, y_test = train_test_split(X, y, test_size=0.2, random_state=42)\n",
    "\n",
    "model = LinearRegression()\n",
    "\n",
    "model.fit(X_train, y_train)\n",
    "\n",
    "y_pred = model.predict(X_test)"
   ]
  },
  {
   "cell_type": "markdown",
   "id": "04735bbb-7813-4d1c-870b-1d391709209b",
   "metadata": {},
   "source": [
    "## 3) Interpretacja parametrów Beta"
   ]
  },
  {
   "cell_type": "code",
   "execution_count": 162,
   "id": "9a99ca52-087c-425e-8a9f-be5912472785",
   "metadata": {},
   "outputs": [
    {
     "name": "stdout",
     "output_type": "stream",
     "text": [
      "Beta: [  30.43658175   72.81253284   16.19040436  322.66386452  -22.05415102\n",
      "  -96.14470574  886.45469187 -378.40618771] Intercept: -2026.9617695065554\n"
     ]
    }
   ],
   "source": [
    "print(\"Beta:\", model.coef_, \"Intercept:\", model.intercept_)"
   ]
  },
  {
   "cell_type": "markdown",
   "id": "18e724e6-3f51-4427-bbba-6696de1a0b2d",
   "metadata": {},
   "source": [
    "### y = -2026.96 + 30.44X1 + 72.81X2 + 16.19X3 + 322.66X4 - 22.05X5 - 96.14X6 + 886.45 - 378.41 + e\n",
    "\n",
    "### INTERPRETACJA WSPOLCZYNNIKOW BETA:\n",
    "\n",
    "X1 - dlugosc_dzioba_mm: 30.44\n",
    "Wzrost dlugosci dzioba o 1 mm powoduje wzrost masy ciala o 30.44 grama\n",
    "\n",
    "X2 - szerokosc_dzioba_mm: 72.81\n",
    "Wzrost szerokosci dzioba o 1 mm powoduje wzrost masy ciala o 72.81 grama\n",
    "\n",
    "X3 - dlugosc_pletwy_mm: 16.19\n",
    "Wzrost dlugosci pletwy o 1 mm powoduje wzrost masy ciala o 16.19 grama\n",
    "\n",
    "X4 - plec: 322.66\n",
    "Samce (wartosc 1) sa srednio ciezsze od samic (wartosc 0) o 322.66 grama\n",
    "\n",
    "X5 - wyspa_Dream: -22.05\n",
    "Pingwiny z wyspy Dream waza srednio 22.05 grama mniej niz pingwiny z wyspy Biscoe (wyspa referencyjna)\n",
    "\n",
    "X6 - wyspa_Torgersen: -96.14\n",
    "Pingwiny z wyspy Torgersen waza srednio 96.14 grama mniej niz pingwiny z wyspy Biscoe\n",
    "\n",
    "X7 - gatunek_Pingwin bialobrewy: 886.45\n",
    "Pingwiny bialobrewy waza srednio 886.45 grama wiecej niz pingwiny Adeli (gatunek referencyjny)\n",
    "\n",
    "X8 - gatunek_Pingwin maskowy: -378.41\n",
    "Pingwiny maskowe waza srednio 378.41 grama mniej niz pingwiny Adeli\n",
    "\n",
    "Wyraz wolny: -2026.96\n",
    "Wartosc teoretyczna masy ciala gdy wszystkie zmienne sa rowne zero - nie ma interpretacji praktycznej\n"
   ]
  },
  {
   "cell_type": "markdown",
   "id": "dbbc9e82-4639-4a62-99dd-a1c151e889d7",
   "metadata": {},
   "source": [
    "## 4) Interpretacja parametrów modelu"
   ]
  },
  {
   "cell_type": "code",
   "execution_count": 136,
   "id": "9066973c-0bf5-4b16-b916-c5d290e88f3e",
   "metadata": {},
   "outputs": [
    {
     "name": "stdout",
     "output_type": "stream",
     "text": [
      "                            OLS Regression Results                            \n",
      "==============================================================================\n",
      "Dep. Variable:           masa_ciala_g   R-squared:                       0.867\n",
      "Model:                            OLS   Adj. R-squared:                  0.863\n",
      "Method:                 Least Squares   F-statistic:                     270.4\n",
      "Date:                Thu, 09 Oct 2025   Prob (F-statistic):          1.11e-140\n",
      "Time:                        15:08:12   Log-Likelihood:                -2427.3\n",
      "No. Observations:                 342   AIC:                             4873.\n",
      "Df Residuals:                     333   BIC:                             4907.\n",
      "Df Model:                           8                                         \n",
      "Covariance Type:            nonrobust                                         \n",
      "===================================================================================================================\n",
      "                                                      coef    std err          t      P>|t|      [0.025      0.975]\n",
      "-------------------------------------------------------------------------------------------------------------------\n",
      "const                                           -2102.4765    568.606     -3.698      0.000   -3220.989    -983.964\n",
      "dlugosc_dzioba_mm                                  24.3236      7.169      3.393      0.001      10.220      38.427\n",
      "szerokosc_dzioba_mm                                79.3165     19.890      3.988      0.000      40.190     118.443\n",
      "dlugosc_pletwy_mm                                  17.1934      2.972      5.786      0.000      11.348      23.039\n",
      "plec                                              321.9992     46.770      6.885      0.000     229.998     414.001\n",
      "wyspa_Dream                                       -22.1984     59.982     -0.370      0.712    -140.191      95.794\n",
      "wyspa_Torgersen                                   -58.1241     61.366     -0.947      0.344    -178.838      62.590\n",
      "gatunek_Pingwin bialobrewy (Pygoscelis papua)     930.3206    139.436      6.672      0.000     656.035    1204.606\n",
      "gatunek_Pingwin maskowy (Pygoscelis antarctica)  -318.9876     89.545     -3.562      0.000    -495.132    -142.843\n",
      "==============================================================================\n",
      "Omnibus:                        1.166   Durbin-Watson:                   2.021\n",
      "Prob(Omnibus):                  0.558   Jarque-Bera (JB):                0.915\n",
      "Skew:                           0.070   Prob(JB):                        0.633\n",
      "Kurtosis:                       3.211   Cond. No.                     7.38e+03\n",
      "==============================================================================\n",
      "\n",
      "Notes:\n",
      "[1] Standard Errors assume that the covariance matrix of the errors is correctly specified.\n",
      "[2] The condition number is large, 7.38e+03. This might indicate that there are\n",
      "strong multicollinearity or other numerical problems.\n"
     ]
    }
   ],
   "source": [
    "import statsmodels.api as sm\n",
    "\n",
    "X_with_const = sm.add_constant(X)\n",
    "model_sm = sm.OLS(y, X_with_const).fit()\n",
    "print(model_sm.summary())"
   ]
  },
  {
   "cell_type": "markdown",
   "id": "8eee4903-5422-4720-8e1b-4b6dd4cecc1a",
   "metadata": {},
   "source": [
    "### Interpretacja\n",
    "R^2 = 0.867 - zmienne objaśniające bardzo dobrze wyjaśniają zmienną objaśnianą (masę ciała).\n",
    "\n",
    "Zmienne X1,X2,X3,X4,X7,X8 sa istotne statystycznie, p-value < 0.05. Nie mamy podstaw do odrzucenia H0 na rzecz H1. \n",
    "\n",
    "Zmienne X5, X6 sa nieistotne statystycznie, p-value > 0.05. Zatem odrzucamy H0 na rzecz H1. \n",
    "\n",
    "Wartość p-modelu = 1.11e-140  - prawie 0, model jest bardzo istotny statystyczny"
   ]
  },
  {
   "cell_type": "markdown",
   "id": "4e1f01ad-039d-48a5-8af5-02ff686b56e5",
   "metadata": {},
   "source": [
    "## 5) Wykres rozrzutu dla reszt modelu. Test na homogeniczność modelu - Test White'a."
   ]
  },
  {
   "cell_type": "code",
   "execution_count": 163,
   "id": "53ebca7a-7e9f-4412-8693-d9b58014d9f4",
   "metadata": {
    "scrolled": true
   },
   "outputs": [
    {
     "data": {
      "image/png": "[encoded data removed]",
      "text/plain": [
       "<Figure size 640x480 with 1 Axes>"
      ]
     },
     "metadata": {},
     "output_type": "display_data"
    }
   ],
   "source": [
    "import matplotlib.pyplot as plt\n",
    "from statsmodels.stats.diagnostic import het_white\n",
    "\n",
    "y_pred_all = model.predict(X)\n",
    "residuals_all = y - y_pred_all\n",
    "\n",
    "# Wykres reszt\n",
    "plt.scatter(y_pred_all, residuals_all, alpha=0.7)\n",
    "plt.axhline(y=0, color='red', linestyle='--')\n",
    "plt.xlabel('Predykcje')\n",
    "plt.ylabel('Reszty')\n",
    "plt.title('Wykres reszt vs predykcji')\n",
    "plt.show()"
   ]
  },
  {
   "cell_type": "code",
   "execution_count": null,
   "id": "eb78a033-e34d-4e3c-9699-2f0c140bc28b",
   "metadata": {},
   "outputs": [],
   "source": []
  },
  {
   "cell_type": "code",
   "execution_count": 165,
   "id": "53e79d68-af46-4ee2-acc0-781b473cd131",
   "metadata": {},
   "outputs": [
    {
     "name": "stdout",
     "output_type": "stream",
     "text": [
      "TEST WHITE'A:\n",
      "p-value: 0.0673\n",
      "Homoskedastyczność\n"
     ]
    }
   ],
   "source": [
    "# 3. Test White'a\n",
    "white_test = het_white(residuals_all, X_with_const)\n",
    "print(\"TEST WHITE'A:\")\n",
    "print(f\"p-value: {white_test[1]:.4f}\")\n",
    "\n",
    "if white_test[1] > 0.05:\n",
    "    print(\"Homoskedastyczność\")\n",
    "else:\n",
    "    print(\"Heterosk4edastyczność \")"
   ]
  },
  {
   "cell_type": "markdown",
   "id": "b30fbba8-8e1f-4856-9854-9a1fbdcb7cf9",
   "metadata": {},
   "source": [
    "### Wniosek: Wariancja reszt jest STAŁA - model spełnia założenie homoscedastyczności. Brak problemu z nierównomiernym rozrzutem błędów."
   ]
  },
  {
   "cell_type": "markdown",
   "id": "89006b92-1569-4897-aa4f-75caaf38fae7",
   "metadata": {},
   "source": [
    "## 6) Predykcja modelu dla przypadku:\n",
    "pingwin maskowy,\n",
    "samiec,\n",
    "długośc dzioba 46 mm,\n",
    "szerokość 21 mm,\n",
    "długość płetwy 210 mm."
   ]
  },
  {
   "cell_type": "code",
   "execution_count": 155,
   "id": "2849dd7a-9958-4f88-a1d2-20ec91737f73",
   "metadata": {},
   "outputs": [
    {
     "name": "stdout",
     "output_type": "stream",
     "text": [
      "PREDYKCJA MASY CIAŁA: 4246 g\n"
     ]
    }
   ],
   "source": [
    "new_penguin = {\n",
    "    'dlugosc_dzioba_mm': 46,\n",
    "    'szerokosc_dzioba_mm': 21, \n",
    "    'dlugosc_pletwy_mm': 210,\n",
    "    'plec': 1,  # samiec\n",
    "    'wyspa_Dream': 0,\n",
    "    'wyspa_Torgersen': 0,\n",
    "    'gatunek_Pingwin bialobrewy (Pygoscelis papua)': 0,\n",
    "    'gatunek_Pingwin maskowy (Pygoscelis antarctica)': 1\n",
    "}\n",
    "\n",
    "new_data = pd.DataFrame([new_penguin])\n",
    "\n",
    "predicted_weight = model.predict(new_data)[0]\n",
    "\n",
    "print(f\"PREDYKCJA MASY CIAŁA: {predicted_weight:.0f} g\")"
   ]
  },
  {
   "cell_type": "markdown",
   "id": "08686c04-558f-4b3a-a790-bae1ef401baf",
   "metadata": {},
   "source": [
    "## 7) Konkurencyjny model - drzewo decyzyjne "
   ]
  },
  {
   "cell_type": "code",
   "execution_count": 154,
   "id": "60b204a0-9a05-48c8-a81f-11d75245a924",
   "metadata": {},
   "outputs": [
    {
     "name": "stdout",
     "output_type": "stream",
     "text": [
      "R² drzewa: 0.7842\n",
      " Warunek spełniony: R² >= 0.75\n",
      "Predykcja drzewa decyzyjnego: 4425.0 g\n"
     ]
    }
   ],
   "source": [
    "from sklearn.tree import DecisionTreeRegressor\n",
    "\n",
    "# Drzewo decyzyjne\n",
    "tree_model = DecisionTreeRegressor(max_depth=6, random_state=42)\n",
    "tree_model.fit(X_train, y_train)\n",
    "\n",
    "# Predykcja\n",
    "y_pred_tree = tree_model.predict(X_test)\n",
    "\n",
    "# Ocena\n",
    "r2_tree = r2_score(y_test, y_pred_tree)\n",
    "print(f\"R² drzewa: {r2_tree:.4f}\")\n",
    "\n",
    "if r2_tree >= 0.75:\n",
    "    print(\" Warunek spełniony: R² >= 0.75\")\n",
    "else:\n",
    "    print(\" Warunek nie spełniony\")\n",
    "\n",
    "# Predykcja drzewa\n",
    "weight_tree = tree_model.predict(new_data)[0]\n",
    "print(f\"Predykcja drzewa decyzyjnego: {weight_tree} g\")"
   ]
  },
  {
   "cell_type": "markdown",
   "id": "0bc97be3-547b-4e8d-ad80-3d961d1b1ada",
   "metadata": {},
   "source": [
    "### Regresja liniowa vs drzewo decyzyjna \n",
    "R^2 = 0.867    vs R^2 = 0.784\n",
    "\n",
    "R^2 wieksze w przypadku regresji liniowej, ale drzewo decyzyjne lepiej radzi sobie z nieliniowoscia.\n",
    "W regresji liniowej 5 zmiennych sa istotne statystyczne, pozostałe sa statystycznie nieistotne\n",
    "\n",
    "Interpretacja drzewa decyzyjnego jest mniejsza, nie wiemy dokładnie jaki wpływ ma każda zmienna.\n",
    "\n",
    "### Który lepszy i dlaczego ?\n",
    "\n",
    "To zależy\n",
    "\n",
    "Do predykcji: DRZEWO DECYZYJNE\n",
    "- czesto lepiej radzi sobie z nieliniowościami.\n",
    "- nie wymaga założeń o danych, automatycznie wybiera istotne zmienne\n",
    "- trudniejsza interpretacja niż w regresji liniowej\n",
    "  \n",
    "Do interpretacji: REGRESJA LINIOWA\n",
    "- wiemy dokładnie jaki wpływ ma każda zmienna.\n",
    "- jest wymagane spelnione zalozen "
   ]
  }
 ],
 "metadata": {
  "kernelspec": {
   "display_name": "Python 3 (ipykernel)",
   "language": "python",
   "name": "python3"
  },
  "language_info": {
   "codemirror_mode": {
    "name": "ipython",
    "version": 3
   },
   "file_extension": ".py",
   "mimetype": "text/x-python",
   "name": "python",
   "nbconvert_exporter": "python",
   "pygments_lexer": "ipython3",
   "version": "3.12.3"
  }
 },
 "nbformat": 4,
 "nbformat_minor": 5
}
